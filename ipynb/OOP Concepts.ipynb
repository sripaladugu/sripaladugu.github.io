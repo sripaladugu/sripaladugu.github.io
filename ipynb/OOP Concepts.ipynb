{
 "cells": [
  {
   "cell_type": "markdown",
   "metadata": {},
   "source": [
    "Youtube Videos:\n",
    "    * https://www.youtube.com/watch?v=rq8cL2XMM5M&index=3&list=PL-osiE80TeTsqhIuOqKhwlXsIBIdSeYtc\n",
    "    * https://www.youtube.com/watch?v=RSl87lqOXDE&index=4&list=PL-osiE80TeTsqhIuOqKhwlXsIBIdSeYtc\n",
    "    "
   ]
  },
  {
   "cell_type": "markdown",
   "metadata": {},
   "source": [
    "Online References:\n",
    "    * https://jeffknupp.com/blog/2017/03/27/improve-your-python-python-classes-and-object-oriented-programming/\n",
    "    * https://dbader.org/blog/abstract-base-classes-in-python"
   ]
  },
  {
   "cell_type": "code",
   "execution_count": 14,
   "metadata": {
    "collapsed": false
   },
   "outputs": [
    {
     "name": "stdout",
     "output_type": "stream",
     "text": [
      "Sri Paladugu\n",
      "2\n",
      "Verily\n",
      "Company Name is: Google\n",
      "Google\n",
      "Dhruv.Paladugu@Google.com\n"
     ]
    }
   ],
   "source": [
    "class Employee:\n",
    "    emp_count = 0 # Class Variable\n",
    "    company = 'Google' # Class Variable \n",
    "    def __init__(self, fname, lname):\n",
    "        self.fname = fname\n",
    "        self.lname = lname\n",
    "        self.email = self.fname + '.' + self.lname + '@' + self.company + '.com'\n",
    "        Employee.emp_count += 1\n",
    "        \n",
    "    def get_fullname(self):\n",
    "        return '{} {}'.format(self.fname, self.lname)\n",
    "    \n",
    "    def get_company(self):\n",
    "        return 'Company Name is: {}'.format(Employee.company)\n",
    "\n",
    "emp1 = Employee('Sri', 'Paladugu')\n",
    "emp2 = Employee('Dhruv', 'Paladugu')\n",
    "\n",
    "print( emp1.get_fullname() )\n",
    "print( Employee.emp_count  )\n",
    "\n",
    "# Trobule ensues when you treat class variables as instance attribute. \n",
    "# What the interpreter does in this case is, it creates an instance attribute with the same name and assigns to it.\n",
    "# The class variable still remains intact with old value.\n",
    "emp1.company = 'Verily'\n",
    "print(emp1.company)\n",
    "print(emp1.get_company())\n",
    "\n",
    "print(emp2.company)\n",
    "print(emp2.email)"
   ]
  },
  {
   "cell_type": "markdown",
   "metadata": {},
   "source": [
    "#### Class Methods"
   ]
  },
  {
   "cell_type": "code",
   "execution_count": 15,
   "metadata": {
    "collapsed": false
   },
   "outputs": [
    {
     "name": "stdout",
     "output_type": "stream",
     "text": [
      "1.05\n",
      "1.05\n",
      "1.05\n"
     ]
    }
   ],
   "source": [
    "class Employee:\n",
    "    emp_count = 0 # Class Variable\n",
    "    company = 'Google' # Class Variable\n",
    "    raise_amount = 1.04\n",
    "    def __init__(self, fname, lname):\n",
    "        self.fname = fname\n",
    "        self.lname = lname\n",
    "        self.email = self.fname + '.' + self.lname + '@' + self.company + '.com'\n",
    "        Employee.emp_count += 1\n",
    "        \n",
    "    def get_fullname(self):\n",
    "        return '{} {}'.format(self.fname, self.lname)\n",
    "    \n",
    "    def get_company(self):\n",
    "        return 'Company Name is: {}'.format(Employee.company)\n",
    "    \n",
    "    @classmethod\n",
    "    def set_raise_amt(cls, amount):\n",
    "        cls.raise_amount = amount\n",
    "\n",
    "emp1 = Employee('Sri', 'Paladugu')\n",
    "emp2 = Employee('Dhruv', 'Paladugu')\n",
    "\n",
    "Employee.set_raise_amt(1.05)\n",
    "print(Employee.raise_amount)\n",
    "print(emp1.raise_amount)\n",
    "print(emp2.raise_amount)"
   ]
  },
  {
   "cell_type": "markdown",
   "metadata": {},
   "source": [
    "#### Class Methods can be used to create alternate constructors"
   ]
  },
  {
   "cell_type": "code",
   "execution_count": 16,
   "metadata": {
    "collapsed": false
   },
   "outputs": [
    {
     "name": "stdout",
     "output_type": "stream",
     "text": [
      "Pradeep.Koganti@Google.com\n"
     ]
    }
   ],
   "source": [
    "class Employee:\n",
    "    emp_count = 0 # Class Variable\n",
    "    company = 'Google' # Class Variable\n",
    "    raise_amount = 1.04\n",
    "    def __init__(self, fname, lname, salary):\n",
    "        self.fname = fname\n",
    "        self.lname = lname\n",
    "        self.salary = salary\n",
    "        self.email = self.fname + '.' + self.lname + '@' + self.company + '.com'\n",
    "        Employee.emp_count += 1\n",
    "        \n",
    "    def get_fullname(self):\n",
    "        return '{} {}'.format(self.fname, self.lname)\n",
    "    \n",
    "    def get_company(self):\n",
    "        return 'Company Name is: {}'.format(Employee.company)\n",
    "    \n",
    "    @classmethod\n",
    "    def set_raise_amt(cls, amount):\n",
    "        cls.raise_amount = amount\n",
    "    \n",
    "    @classmethod\n",
    "    def from_string(cls, emp_str):\n",
    "        fname, lname, salary = emp_str.split(\"-\")\n",
    "        return cls(fname, lname, salary)\n",
    "\n",
    "new_emp = Employee.from_string(\"Pradeep-Koganti-10000\")\n",
    "print(new_emp.email)"
   ]
  },
  {
   "cell_type": "markdown",
   "metadata": {},
   "source": [
    "#### Static Methods\n",
    "\n",
    "* Instance methods take `self` as the first argument\n",
    "* Class methods take `cls` as the first argument\n",
    "* Static methods don't take instance or class as their argument, we just pass the arguments we want to work with.\n",
    "\n",
    "Static methods don't operate on instance or class."
   ]
  },
  {
   "cell_type": "code",
   "execution_count": 17,
   "metadata": {
    "collapsed": false
   },
   "outputs": [
    {
     "name": "stdout",
     "output_type": "stream",
     "text": [
      "False\n"
     ]
    }
   ],
   "source": [
    "class Employee:\n",
    "    emp_count = 0 # Class Variable\n",
    "    company = 'Google' # Class Variable\n",
    "    raise_amount = 1.04\n",
    "    def __init__(self, fname, lname, salary):\n",
    "        self.fname = fname\n",
    "        self.lname = lname\n",
    "        self.salary = salary\n",
    "        self.email = self.fname + '.' + self.lname + '@' + self.company + '.com'\n",
    "        Employee.emp_count += 1\n",
    "        \n",
    "    def get_fullname(self):\n",
    "        return '{} {}'.format(self.fname, self.lname)\n",
    "    \n",
    "    def get_company(self):\n",
    "        return 'Company Name is: {}'.format(Employee.company)\n",
    "    \n",
    "    @classmethod\n",
    "    def set_raise_amt(cls, amount):\n",
    "        cls.raise_amount = amount\n",
    "    \n",
    "    @classmethod\n",
    "    def from_string(cls, emp_str):\n",
    "        fname, lname, salary = emp_str.split(\"-\")\n",
    "        return cls(fname, lname, salary)\n",
    "    \n",
    "    @staticmethod\n",
    "    def is_workday(day):\n",
    "        if day.weekday() == 5 or day.weekday() == 6:\n",
    "            return False\n",
    "        else:\n",
    "            return True\n",
    "\n",
    "import datetime\n",
    "my_date = datetime.date(2016, 7, 10)\n",
    "\n",
    "print(Employee.is_workday(my_date))"
   ]
  },
  {
   "cell_type": "markdown",
   "metadata": {},
   "source": [
    "#### Inheritance - Creating subclasses"
   ]
  },
  {
   "cell_type": "code",
   "execution_count": 19,
   "metadata": {
    "collapsed": false
   },
   "outputs": [
    {
     "name": "stdout",
     "output_type": "stream",
     "text": [
      "Sri Paladugu\n",
      "Help on class Developer in module __main__:\n",
      "\n",
      "class Developer(Employee)\n",
      " |  Method resolution order:\n",
      " |      Developer\n",
      " |      Employee\n",
      " |      builtins.object\n",
      " |  \n",
      " |  Methods inherited from Employee:\n",
      " |  \n",
      " |  __init__(self, fname, lname, salary)\n",
      " |      Initialize self.  See help(type(self)) for accurate signature.\n",
      " |  \n",
      " |  get_company(self)\n",
      " |  \n",
      " |  get_fullname(self)\n",
      " |  \n",
      " |  ----------------------------------------------------------------------\n",
      " |  Data descriptors inherited from Employee:\n",
      " |  \n",
      " |  __dict__\n",
      " |      dictionary for instance variables (if defined)\n",
      " |  \n",
      " |  __weakref__\n",
      " |      list of weak references to the object (if defined)\n",
      " |  \n",
      " |  ----------------------------------------------------------------------\n",
      " |  Data and other attributes inherited from Employee:\n",
      " |  \n",
      " |  company = 'Google'\n",
      " |  \n",
      " |  emp_count = 1\n",
      " |  \n",
      " |  raise_amount = 1.04\n",
      "\n",
      "None\n"
     ]
    }
   ],
   "source": [
    "class Employee:\n",
    "    emp_count = 0 # Class Variable\n",
    "    company = 'Google' # Class Variable\n",
    "    raise_amount = 1.04\n",
    "    def __init__(self, fname, lname, salary):\n",
    "        self.fname = fname\n",
    "        self.lname = lname\n",
    "        self.salary = salary\n",
    "        self.email = self.fname + '.' + self.lname + '@' + self.company + '.com'\n",
    "        Employee.emp_count += 1\n",
    "        \n",
    "    def get_fullname(self):\n",
    "        return '{} {}'.format(self.fname, self.lname)\n",
    "    \n",
    "    def get_company(self):\n",
    "        return 'Company Name is: {}'.format(Employee.company)\n",
    "    \n",
    "    def apply_raise(self):\n",
    "        self.salary = self.salary * self.raise_amount\n",
    "\n",
    "class Developer(Employee):\n",
    "    pass\n",
    "\n",
    "dev1 = Developer('Sri', 'Paladugu', 1000)\n",
    "print(dev1.get_fullname())\n",
    "print(help(Developer)) # This command prints the Method resolution order. \n",
    "# Indicating the order in which the interpreter is going to look for methods."
   ]
  },
  {
   "cell_type": "markdown",
   "metadata": {},
   "source": [
    "Now what if you want Developer's `raise_amount` to be 10%?"
   ]
  },
  {
   "cell_type": "code",
   "execution_count": 20,
   "metadata": {
    "collapsed": false
   },
   "outputs": [
    {
     "name": "stdout",
     "output_type": "stream",
     "text": [
      "1100.0\n"
     ]
    }
   ],
   "source": [
    "class Employee:\n",
    "    emp_count = 0 # Class Variable\n",
    "    company = 'Google' # Class Variable\n",
    "    raise_amount = 1.04\n",
    "    def __init__(self, fname, lname, salary):\n",
    "        self.fname = fname\n",
    "        self.lname = lname\n",
    "        self.salary = salary\n",
    "        self.email = self.fname + '.' + self.lname + '@' + self.company + '.com'\n",
    "        Employee.emp_count += 1\n",
    "        \n",
    "    def get_fullname(self):\n",
    "        return '{} {}'.format(self.fname, self.lname)\n",
    "    \n",
    "    def get_company(self):\n",
    "        return 'Company Name is: {}'.format(Employee.company)\n",
    "\n",
    "    def apply_raise(self):\n",
    "        self.salary = self.salary * self.raise_amount    \n",
    "    \n",
    "class Developer(Employee):\n",
    "    raise_amount = 1.10\n",
    "\n",
    "dev1 = Developer('Sri', 'Paladugu', 1000)\n",
    "dev1.apply_raise()\n",
    "print(dev1.salary)"
   ]
  },
  {
   "cell_type": "markdown",
   "metadata": {},
   "source": [
    "Now what if we want the Developer class to have an extra attribute like prog_lang?"
   ]
  },
  {
   "cell_type": "code",
   "execution_count": 21,
   "metadata": {
    "collapsed": false
   },
   "outputs": [
    {
     "name": "stdout",
     "output_type": "stream",
     "text": [
      "Sri Paladugu\n",
      "Python\n"
     ]
    }
   ],
   "source": [
    "class Employee:\n",
    "    emp_count = 0 # Class Variable\n",
    "    company = 'Google' # Class Variable\n",
    "    raise_amount = 1.04\n",
    "    def __init__(self, fname, lname, salary):\n",
    "        self.fname = fname\n",
    "        self.lname = lname\n",
    "        self.salary = salary\n",
    "        self.email = self.fname + '.' + self.lname + '@' + self.company + '.com'\n",
    "        Employee.emp_count += 1\n",
    "        \n",
    "    def get_fullname(self):\n",
    "        return '{} {}'.format(self.fname, self.lname)\n",
    "    \n",
    "    def get_company(self):\n",
    "        return 'Company Name is: {}'.format(Employee.company)\n",
    "\n",
    "    def apply_raise(self):\n",
    "        self.salary = self.salary * self.raise_amount    \n",
    "    \n",
    "class Developer(Employee):\n",
    "    raise_amount = 1.10\n",
    "    \n",
    "    def __init__(self, fname, lname, salary, prog_lang):\n",
    "        super().__init__(fname, lname, salary)\n",
    "        # or you can also use the following syntax\n",
    "        # Employee.__init__(self, fname, lname, salary)\n",
    "        self.prog_lang = prog_lang\n",
    "\n",
    "dev1 = Developer('Sri', 'Paladugu', 1000, 'Python')\n",
    "print(dev1.get_fullname())\n",
    "print(dev1.prog_lang)"
   ]
  },
  {
   "cell_type": "markdown",
   "metadata": {},
   "source": [
    "Gotcha - Mutable default arguments\n",
    "* https://pythonconquerstheuniverse.wordpress.com/2012/02/15/mutable-default-arguments/"
   ]
  },
  {
   "cell_type": "code",
   "execution_count": 40,
   "metadata": {
    "collapsed": false
   },
   "outputs": [
    {
     "name": "stdout",
     "output_type": "stream",
     "text": [
      "Sue.Smith@Google.com\n",
      "---> Sri Paladugu\n",
      "None\n",
      "---> Sri Paladugu\n",
      "---> Dhruv Paladugu\n",
      "None\n",
      "Is dev_1 an instance of Developer:  True\n",
      "Is dev_1 an instance of Employee:  True\n",
      "Is Developer an Subclass of Developer:  True\n",
      "Is Developer an Subclass of Employee:  True\n"
     ]
    }
   ],
   "source": [
    "class Employee:\n",
    "    emp_count = 0 # Class Variable\n",
    "    company = 'Google' # Class Variable\n",
    "    raise_amount = 1.04\n",
    "    def __init__(self, fname, lname, salary):\n",
    "        self.fname = fname\n",
    "        self.lname = lname\n",
    "        self.salary = salary\n",
    "        self.email = self.fname + '.' + self.lname + '@' + self.company + '.com'\n",
    "        Employee.emp_count += 1\n",
    "        \n",
    "    def get_fullname(self):\n",
    "        return '{} {}'.format(self.fname, self.lname)\n",
    "    \n",
    "    def get_company(self):\n",
    "        return 'Company Name is: {}'.format(Employee.company)\n",
    "\n",
    "    def apply_raise(self):\n",
    "        self.salary = self.salary * self.raise_amount    \n",
    "    \n",
    "class Developer(Employee):\n",
    "    raise_amount = 1.10\n",
    "    \n",
    "    def __init__(self, fname, lname, salary, prog_lang):\n",
    "        super().__init__(fname, lname, salary)\n",
    "        # or you can also use the following syntax\n",
    "        # Employee.__init__(self, fname, lname, salary)\n",
    "        self.prog_lang = prog_lang\n",
    "\n",
    "class Manager(Employee):\n",
    "    def __init__(self, fname, lname, salary, employees = None): # Use None as default not empty list []\n",
    "        super().__init__(fname, lname, salary)\n",
    "        if employees is None:\n",
    "            self.employees = []\n",
    "        else:\n",
    "            self.employees = employees\n",
    "    def add_employee(self, emp):\n",
    "        if emp not in self.employees:\n",
    "            self.employees.append(emp)\n",
    "    def remove_employee(self, emp):\n",
    "        if emp in self.employees:\n",
    "            self.employees.remove(emp)\n",
    "    def print_emps(self):\n",
    "        for emp in self.employees:\n",
    "            print('--->', emp.get_fullname())\n",
    "\n",
    "dev_1 = Developer('Sri', 'Paladugu', 1000, 'Python')\n",
    "dev_2 = Developer('Dhruv', 'Paladugu', 2000, 'Java')\n",
    "mgr_1 = Manager('Sue', 'Smith', 9000, [dev_1])\n",
    "print(mgr_1.email)\n",
    "print(mgr_1.print_emps())\n",
    "mgr_1.add_employee(dev_2)\n",
    "print(mgr_1.print_emps())\n",
    "\n",
    "print('Is dev_1 an instance of Developer: ', isinstance(dev_1, Developer))\n",
    "print('Is dev_1 an instance of Employee: ', isinstance(dev_1, Employee))\n",
    "print('Is Developer an Subclass of Developer: ', issubclass(Developer, Developer))\n",
    "print('Is Developer an Subclass of Employee: ', issubclass(Developer, Employee))"
   ]
  },
  {
   "cell_type": "markdown",
   "metadata": {},
   "source": [
    "#### Magic or Dunder Methods\n",
    "\n",
    "* https://www.youtube.com/watch?v=3ohzBxoFHAY&index=5&list=PL-osiE80TeTsqhIuOqKhwlXsIBIdSeYtc"
   ]
  },
  {
   "cell_type": "markdown",
   "metadata": {},
   "source": [
    "Dunder methods:\n",
    "1. `__repr__`\n",
    "2. `__str__`"
   ]
  },
  {
   "cell_type": "code",
   "execution_count": 47,
   "metadata": {
    "collapsed": false
   },
   "outputs": [
    {
     "name": "stdout",
     "output_type": "stream",
     "text": [
      "Sri Paladugu - Sri.Paladugu@Google.com\n",
      "Employee('Sri','Paladugu','5000')\n"
     ]
    }
   ],
   "source": [
    "class Employee:\n",
    "    company = 'Google'\n",
    "    def __init__(self, fname, lname, salary):\n",
    "        self.fname = fname\n",
    "        self.lname = lname\n",
    "        self.salary = salary\n",
    "        self.email = self.fname + '.' + self.lname + '@' + self.company + '.com'\n",
    "    def __repr__(self): # For other developers\n",
    "        return \"Employee('{}','{}','{}')\".format(self.fname, self.lname, self.salary)\n",
    "    def __str__(self): # For end user\n",
    "        return '{} - {}'.format(self.get_fullname(), self.email)\n",
    "    def get_fullname(self):\n",
    "        return '{} {}'.format(self.fname, self.lname)\n",
    "\n",
    "emp1 = Employee('Sri', 'Paladugu', 5000)\n",
    "print(emp1)\n",
    "print(repr(emp1))"
   ]
  },
  {
   "cell_type": "markdown",
   "metadata": {},
   "source": [
    "3. `__add__`\n",
    "4. `__len__`"
   ]
  },
  {
   "cell_type": "code",
   "execution_count": 53,
   "metadata": {
    "collapsed": false
   },
   "outputs": [
    {
     "name": "stdout",
     "output_type": "stream",
     "text": [
      "3\n",
      "[2, 3, 4, 5]\n",
      "8\n"
     ]
    }
   ],
   "source": [
    "# if you do: 1 + 2 internally the interpreter calls the dunder method __add__\n",
    "print(int.__add__(1,2))\n",
    "# Similarly # if you do: [2,3] + [4,5] internally the interpreter calls the dunder method __add__\n",
    "print(list.__add__([2,3],[4,5]))\n",
    "\n",
    "print('Paladugu'.__len__()) # This is same as len('Paladugu')"
   ]
  },
  {
   "cell_type": "code",
   "execution_count": 51,
   "metadata": {
    "collapsed": false
   },
   "outputs": [
    {
     "name": "stdout",
     "output_type": "stream",
     "text": [
      "10000\n",
      "12\n"
     ]
    }
   ],
   "source": [
    "class Employee:\n",
    "    company = 'Google'\n",
    "    def __init__(self, fname, lname, salary):\n",
    "        self.fname = fname\n",
    "        self.lname = lname\n",
    "        self.salary = salary\n",
    "        self.email = self.fname + '.' + self.lname + '@' + self.company + '.com'\n",
    "    def __repr__(self): # For other developers\n",
    "        return \"Employee('{}','{}','{}')\".format(self.fname, self.lname, self.salary)\n",
    "    def __str__(self): # For end user\n",
    "        return '{} - {}'.format(self.get_fullname(), self.email)\n",
    "    def get_fullname(self):\n",
    "        return '{} {}'.format(self.fname, self.lname)\n",
    "    def __add__(self, other):\n",
    "        return self.salary + other.salary\n",
    "    def __len__(self):\n",
    "        return len(self.get_fullname())\n",
    "\n",
    "emp1 = Employee('Sri', 'Paladugu', 5000)\n",
    "emp2 = Employee('Dhruv', 'Paladugu', 5000)\n",
    "\n",
    "print(emp1 + emp2)\n",
    "print(len(emp1))"
   ]
  },
  {
   "cell_type": "markdown",
   "metadata": {},
   "source": [
    "#### Property Decorators"
   ]
  },
  {
   "cell_type": "code",
   "execution_count": 56,
   "metadata": {
    "collapsed": false
   },
   "outputs": [
    {
     "name": "stdout",
     "output_type": "stream",
     "text": [
      "Sri.Paladugu@Google.com\n",
      "Sri Paladugu\n",
      "Ramki.Paladugu@Google.com\n",
      "Delete Name!\n",
      "None.None@Google.com\n"
     ]
    }
   ],
   "source": [
    "class Employee:\n",
    "    company = 'Google'\n",
    "    def __init__(self, fname, lname, salary):\n",
    "        self.fname = fname\n",
    "        self.lname = lname\n",
    "        self.salary = salary\n",
    "\n",
    "    @property\n",
    "    def email(self):\n",
    "        return '{}.{}@{}.com'.format(self.fname, self.lname, self.company)\n",
    "\n",
    "    @property\n",
    "    def fullname(self):\n",
    "        return '{} {}'.format(self.fname, self.lname)\n",
    "    \n",
    "    @fullname.setter\n",
    "    def fullname(self, name):\n",
    "        first, last = name.split(' ')\n",
    "        self.fname = first\n",
    "        self.lname = last\n",
    "    \n",
    "    @fullname.deleter\n",
    "    def fullname(self):\n",
    "        print('Delete Name!')\n",
    "        self.fname = None\n",
    "        self.lname = None\n",
    "\n",
    "emp1 = Employee('Sri', 'Paladugu', 5000)\n",
    "print(emp1.email)\n",
    "print(emp1.fullname)\n",
    "emp1.fullname = 'Ramki Paladugu'\n",
    "print(emp1.email)\n",
    "del emp1.fullname\n",
    "print(emp1.email)"
   ]
  },
  {
   "cell_type": "markdown",
   "metadata": {},
   "source": [
    "#### Abstract Base Classes in Python"
   ]
  },
  {
   "cell_type": "markdown",
   "metadata": {},
   "source": [
    "What are Abstract Base Classes good for? A while ago I had a discussion about which pattern to use for implementing a maintainable class hierarchy in Python. More specifically, the goal was to define a simple class hierarchy for a service backend in the most programmer-friendly and maintainable way.\n",
    "\n",
    "There was a BaseService that defines a common interface and several concrete implementations that do different things but all provide the same interface (MockService, RealService, and so on). To make this relationship explicit the concrete implementations all subclass BaseService.\n",
    "\n",
    "To be as maintainable and programmer-friendly as possible the idea was to make sure that:\n",
    "\n",
    "* instantiating the base class is impossible; and\n",
    "* forgetting to implement interface methods in one of the subclasses raises an error as early as possible."
   ]
  },
  {
   "cell_type": "code",
   "execution_count": 4,
   "metadata": {
    "collapsed": false
   },
   "outputs": [
    {
     "ename": "TypeError",
     "evalue": "Can't instantiate abstract class Concrete with abstract methods bar",
     "output_type": "error",
     "traceback": [
      "\u001b[0;31m---------------------------------------------------------------------------\u001b[0m",
      "\u001b[0;31mTypeError\u001b[0m                                 Traceback (most recent call last)",
      "\u001b[0;32m<ipython-input-4-c65cfdf3ba42>\u001b[0m in \u001b[0;36m<module>\u001b[0;34m()\u001b[0m\n\u001b[1;32m     16\u001b[0m     \u001b[0;31m# We forget to declare bar()\u001b[0m\u001b[0;34m\u001b[0m\u001b[0;34m\u001b[0m\u001b[0m\n\u001b[1;32m     17\u001b[0m \u001b[0;34m\u001b[0m\u001b[0m\n\u001b[0;32m---> 18\u001b[0;31m \u001b[0mc\u001b[0m \u001b[0;34m=\u001b[0m \u001b[0mConcrete\u001b[0m\u001b[0;34m(\u001b[0m\u001b[0;34m)\u001b[0m\u001b[0;34m\u001b[0m\u001b[0m\n\u001b[0m",
      "\u001b[0;31mTypeError\u001b[0m: Can't instantiate abstract class Concrete with abstract methods bar"
     ]
    }
   ],
   "source": [
    "from abc import ABCMeta, abstractmethod\n",
    "\n",
    "class Base(metaclass=ABCMeta):\n",
    "    @abstractmethod\n",
    "    def foo(self):\n",
    "        pass\n",
    "\n",
    "    @abstractmethod\n",
    "    def bar(self):\n",
    "        pass\n",
    "\n",
    "class Concrete(Base):\n",
    "    def foo(self):\n",
    "        pass\n",
    "\n",
    "    # We forget to declare bar()\n",
    "\n",
    "c = Concrete()"
   ]
  }
 ],
 "metadata": {
  "anaconda-cloud": {},
  "kernelspec": {
   "display_name": "Python 3",
   "language": "python",
   "name": "python3"
  },
  "language_info": {
   "codemirror_mode": {
    "name": "ipython",
    "version": 3
   },
   "file_extension": ".py",
   "mimetype": "text/x-python",
   "name": "python",
   "nbconvert_exporter": "python",
   "pygments_lexer": "ipython3",
   "version": "3.5.3"
  }
 },
 "nbformat": 4,
 "nbformat_minor": 2
}
