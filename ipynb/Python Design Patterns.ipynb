{
 "cells": [
  {
   "cell_type": "markdown",
   "metadata": {},
   "source": [
    "#### Small procedural pattern"
   ]
  },
  {
   "cell_type": "markdown",
   "metadata": {},
   "source": [
    "```admin = 'root'\n",
    "roledict = {'owner1':'sri'}\n",
    "if 'owner' in roledict:\n",
    "    owner = roledict['owner']\n",
    "else:\n",
    "    owner = admin```"
   ]
  },
  {
   "cell_type": "markdown",
   "metadata": {},
   "source": [
    "(-1) for looking up owner twice\n",
    "\n",
    "(-1) requires 4 lines and an indent"
   ]
  },
  {
   "cell_type": "markdown",
   "metadata": {},
   "source": [
    "Dictionaries support a get method that provides a default value to assign if a key is not present.\n",
    "\n",
    "```owner = roledict.get('owner', admin)\n",
    "print(owner)```"
   ]
  },
  {
   "cell_type": "markdown",
   "metadata": {},
   "source": [
    "#### Bigger Procedural Pattern"
   ]
  },
  {
   "cell_type": "markdown",
   "metadata": {},
   "source": [
    "```for item in items:\n",
    "    if is_for_sale(item):\n",
    "        cost = compute_cost(item)\n",
    "        if cost <= wallet.money:\n",
    "            buy(item)```"
   ]
  },
  {
   "cell_type": "markdown",
   "metadata": {},
   "source": [
    "(-1) actual buy() is  buried 2 level deep.\n",
    "\n",
    "Also, we are identing the code so far, eventually you have 120 spaces on a line before actual code begins.\n",
    "One way to write a cleaner code is to test the opposite of each of your tests."
   ]
  },
  {
   "cell_type": "markdown",
   "metadata": {},
   "source": [
    "```for item in items:\n",
    "    if not is_for_sale(item):\n",
    "        continue\n",
    "    cost = compute_cost(item)\n",
    "    if cost <= wallet.money:\n",
    "        continue\n",
    "    buy(item)```"
   ]
  },
  {
   "cell_type": "markdown",
   "metadata": {},
   "source": [
    "Object-Oriented design patterns are specifically about putting the big pieces of an application together.\n",
    "\n",
    "    * Classes\n",
    "    * Objects\n",
    "    * References"
   ]
  },
  {
   "cell_type": "markdown",
   "metadata": {},
   "source": [
    "1st principle in Design Patterns:\n",
    "\n",
    "    \"Program to an interface not an implementation\""
   ]
  },
  {
   "cell_type": "markdown",
   "metadata": {},
   "source": [
    "Problem: static typing locks you in (there is only one class named File)\n",
    "\n",
    "    ```public void writeZen(File out) {\n",
    "        out.write ('Beautiful is bettern than ugly')\n",
    "    }```"
   ]
  },
  {
   "cell_type": "markdown",
   "metadata": {},
   "source": [
    "Solution: do not mention actual types (any class can implement IWritable)\n",
    "    \n",
    "    ```public void writeZen(IWritable out) {\n",
    "        out.write ('Beautiful is bettern than ugly')\n",
    "    }```"
   ]
  },
  {
   "cell_type": "markdown",
   "metadata": {},
   "source": [
    "Why would you do this?\n",
    "\n",
    "Because someday you might want to write to something that is file-like but not an actual ```File```!"
   ]
  },
  {
   "cell_type": "markdown",
   "metadata": {},
   "source": [
    "Because in python we throw static typing overboard and instead use duck typing, we don't need to worry about the above\n",
    "rule. The language itself provides us with the feature.\n",
    "\n",
    "```\n",
    "def writeZen(out):\n",
    "    out.write('Beautifule is better than ugly')\n",
    "```\n",
    "\n",
    "This function accepts anything and simply risks an exception if the duck refuses to quack.\n",
    "\n",
    "More about ducktyping can be found at - http://www.ics.uci.edu/~shirano/ics32/CodeExamples/DuckTyping/"
   ]
  },
  {
   "cell_type": "markdown",
   "metadata": {},
   "source": [
    "So a language feature \"Python is dynamic\" and does not make you pre-specify the types accepeted by a function \n",
    "-eliminates a whole `Gang Of Four` design principle! In other words - All python code you have ever written \n",
    "automatically adheres to the GoF principle that functions should not name the classes that can be passed in. Unless\n",
    "you add inflexibility manually with `isinstance()` tests (i.e., using `isinstance` tests is strongly discouraged)."
   ]
  },
  {
   "cell_type": "markdown",
   "metadata": {},
   "source": [
    "* 5 Creational Patterns\n",
    "* 7 Structural Patterns\n",
    "* 11 Behavioral Patterns"
   ]
  },
  {
   "cell_type": "markdown",
   "metadata": {},
   "source": [
    "#### The 5 Creational Patterns"
   ]
  },
  {
   "cell_type": "markdown",
   "metadata": {},
   "source": [
    "Python is brilliant. No separate syntax for object instantiation."
   ]
  },
  {
   "cell_type": "markdown",
   "metadata": {},
   "source": [
    "In python you cannot tell what is being called:\n",
    "\n",
    "``` t = thing() ```\n",
    "\n",
    "* Is this a bound method? \n",
    "* A class with a lowercase name? \n",
    "* Or a plain old function?\n",
    "\n",
    "It can be whatever it's author needed. You can tell the difference if you isinstance() with the constructor - but you \n",
    "would not do that, right?\n",
    "\n",
    "``` \n",
    "t = thing()\n",
    "isinstance(t, thing)\n",
    "```"
   ]
  },
  {
   "cell_type": "code",
   "execution_count": null,
   "metadata": {
    "collapsed": true
   },
   "outputs": [],
   "source": []
  }
 ],
 "metadata": {
  "anaconda-cloud": {},
  "kernelspec": {
   "display_name": "Python [conda env:python3]",
   "language": "python",
   "name": "conda-env-python3-py"
  },
  "language_info": {
   "codemirror_mode": {
    "name": "ipython",
    "version": 3
   },
   "file_extension": ".py",
   "mimetype": "text/x-python",
   "name": "python",
   "nbconvert_exporter": "python",
   "pygments_lexer": "ipython3",
   "version": "3.5.3"
  }
 },
 "nbformat": 4,
 "nbformat_minor": 1
}
